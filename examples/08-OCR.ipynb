{
 "cells": [
  {
   "cell_type": "code",
   "execution_count": 1,
   "metadata": {},
   "outputs": [],
   "source": [
    "import PIL\n",
    "import pytesseract\n",
    "\n",
    "img = PIL.Image.open(\"reciept_001.png\")\n",
    "text = pytesseract.image_to_string(img)"
   ]
  },
  {
   "cell_type": "code",
   "execution_count": 2,
   "metadata": {},
   "outputs": [
    {
     "name": "stdout",
     "output_type": "stream",
     "text": [
      "WALMART\n",
      "900 Dufferin St, Toronto, ON M6H 4A9\n",
      "\n",
      "26/05/2019 18:25\n",
      "\n",
      "Olive oil 14.87\n",
      "apple cocktail 0.58\n",
      "salad dressing 4.51\n",
      "wheat bread 12.01\n",
      "yogurt cucumber dip 4.24\n",
      "bbq chicken 22.44\n",
      "lemon pie 179.01\n",
      "Subtotal 237.66\n",
      "TAX 35.649\n",
      "Total 35.8\n",
      "\n",
      "# ITEMS SOLD 7\n",
      "\n",
      "**CUSTOMER COPY**\n"
     ]
    }
   ],
   "source": [
    "print(text)"
   ]
  },
  {
   "cell_type": "code",
   "execution_count": 3,
   "metadata": {},
   "outputs": [
    {
     "name": "stdout",
     "output_type": "stream",
     "text": [
      "['WALMART', '900 Dufferin St, Toronto, ON M6H 4A9', '', '26/05/2019 18:25', '', 'Olive oil 14.87', 'apple cocktail 0.58', 'salad dressing 4.51', 'wheat bread 12.01', 'yogurt cucumber dip 4.24', 'bbq chicken 22.44', 'lemon pie 179.01', 'Subtotal 237.66', 'TAX 35.649', 'Total 35.8', '', '# ITEMS SOLD 7', '', '**CUSTOMER COPY**']\n"
     ]
    }
   ],
   "source": [
    "lines = text.split('\\n');\n",
    "print(lines)"
   ]
  },
  {
   "cell_type": "code",
   "execution_count": 4,
   "metadata": {},
   "outputs": [
    {
     "data": {
      "text/plain": [
       "['WALMART',\n",
       " '900 Dufferin St, Toronto, ON M6H 4A9',\n",
       " '',\n",
       " '26/05/2019 18:25',\n",
       " '',\n",
       " 'Olive oil 14.87']"
      ]
     },
     "execution_count": 4,
     "metadata": {},
     "output_type": "execute_result"
    }
   ],
   "source": [
    "lines[0:6]"
   ]
  },
  {
   "cell_type": "code",
   "execution_count": 5,
   "metadata": {},
   "outputs": [
    {
     "data": {
      "text/plain": [
       "['Subtotal 237.66',\n",
       " 'TAX 35.649',\n",
       " 'Total 35.8',\n",
       " '',\n",
       " '# ITEMS SOLD 7',\n",
       " '',\n",
       " '**CUSTOMER COPY**']"
      ]
     },
     "execution_count": 5,
     "metadata": {},
     "output_type": "execute_result"
    }
   ],
   "source": [
    "lines[-7:]"
   ]
  },
  {
   "cell_type": "code",
   "execution_count": 6,
   "metadata": {},
   "outputs": [
    {
     "data": {
      "text/plain": [
       "7"
      ]
     },
     "execution_count": 6,
     "metadata": {},
     "output_type": "execute_result"
    }
   ],
   "source": [
    "len(lines[6:-6])"
   ]
  },
  {
   "cell_type": "code",
   "execution_count": 7,
   "metadata": {},
   "outputs": [],
   "source": [
    "items_count_line = lines[-3]"
   ]
  },
  {
   "cell_type": "code",
   "execution_count": 8,
   "metadata": {},
   "outputs": [
    {
     "data": {
      "text/plain": [
       "7"
      ]
     },
     "execution_count": 8,
     "metadata": {},
     "output_type": "execute_result"
    }
   ],
   "source": [
    "int(items_count_line[13:])"
   ]
  },
  {
   "cell_type": "code",
   "execution_count": 10,
   "metadata": {},
   "outputs": [
    {
     "name": "stdout",
     "output_type": "stream",
     "text": [
      "Valid receipt: reciept_002.png 3 is equal to 3\n"
     ]
    }
   ],
   "source": [
    "filename = \"reciept_002.png\" \n",
    "img = PIL.Image.open(filename)\n",
    "text = pytesseract.image_to_string(img)\n",
    "# print(text)\n",
    "lines = text.split('\\n');\n",
    "num_listed_item = len(lines[6:-6])\n",
    "items_count_line = lines[-3]\n",
    "num_sold_items = int(items_count_line[13:])\n",
    "if num_listed_item != num_sold_items:\n",
    "    print(\"Invalid receipt:\", filename, num_listed_item , \"is not equal to\", num_sold_items)\n",
    "else:\n",
    "    print(\"Valid receipt:\", filename, num_listed_item , \"is equal to\", num_sold_items)"
   ]
  },
  {
   "cell_type": "code",
   "execution_count": 12,
   "metadata": {},
   "outputs": [
    {
     "name": "stdout",
     "output_type": "stream",
     "text": [
      "Valid receipt: reciept_001.png 7 is equal to 7\n",
      "Valid receipt: reciept_002.png 3 is equal to 3\n",
      "Invalid receipt: reciept_003.png 11 is not equal to 10\n",
      "Valid receipt: reciept_004.png 5 is equal to 5\n",
      "Valid receipt: reciept_005.png 8 is equal to 8\n"
     ]
    }
   ],
   "source": [
    "filenames = [\"reciept_001.png\", \"reciept_002.png\", \"reciept_003.png\", \"reciept_004.png\", \"reciept_005.png\"]\n",
    "for filename in filenames:\n",
    "#     print(filename)\n",
    "    img = PIL.Image.open(filename)\n",
    "    text = pytesseract.image_to_string(img)\n",
    "    lines = text.split('\\n');\n",
    "    num_listed_item = len(lines[6:-6])\n",
    "#     print(num_listed_item)\n",
    "    items_count_line = lines[-3]\n",
    "#     print(items_count_line)\n",
    "    num_sold_items = int(items_count_line[13:])\n",
    "    if num_listed_item != num_sold_items:\n",
    "        print(\"Invalid receipt:\", filename, num_listed_item , \"is not equal to\", num_sold_items)\n",
    "    else:\n",
    "        print(\"Valid receipt:\", filename, num_listed_item , \"is equal to\", num_sold_items)"
   ]
  },
  {
   "cell_type": "code",
   "execution_count": null,
   "metadata": {},
   "outputs": [],
   "source": []
  }
 ],
 "metadata": {
  "kernelspec": {
   "display_name": "Python 3",
   "language": "python",
   "name": "python3"
  },
  "language_info": {
   "codemirror_mode": {
    "name": "ipython",
    "version": 3
   },
   "file_extension": ".py",
   "mimetype": "text/x-python",
   "name": "python",
   "nbconvert_exporter": "python",
   "pygments_lexer": "ipython3",
   "version": "3.7.3"
  }
 },
 "nbformat": 4,
 "nbformat_minor": 2
}
