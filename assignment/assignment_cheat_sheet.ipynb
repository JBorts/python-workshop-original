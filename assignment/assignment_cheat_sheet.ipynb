{
 "cells": [
  {
   "cell_type": "markdown",
   "metadata": {},
   "source": [
    "# Cheat Sheet"
   ]
  },
  {
   "cell_type": "markdown",
   "metadata": {},
   "source": [
    "### To create a new empty pandas data frame with 2 columns:\n",
    "   \n",
    "```data = pandas.DataFrame(columns = ['column_name_1', 'column_name_2'])```\n",
    "\n",
    "Example:   "
   ]
  },
  {
   "cell_type": "code",
   "execution_count": 1,
   "metadata": {},
   "outputs": [
    {
     "name": "stdout",
     "output_type": "stream",
     "text": [
      "Empty DataFrame\n",
      "Columns: [name, birth_date, height]\n",
      "Index: []\n"
     ]
    }
   ],
   "source": [
    "import pandas as pd\n",
    "data = pd.DataFrame(columns = ['name', 'birth_date', 'height'])\n",
    "print(data)"
   ]
  },
  {
   "cell_type": "markdown",
   "metadata": {},
   "source": [
    "---"
   ]
  },
  {
   "cell_type": "markdown",
   "metadata": {},
   "source": [
    "### To add a row to a pandas dataframe:\n",
    "\n",
    "```data = data.append({'column_name_1': column_value_1, 'column_name_2': column_value_2}, ignore_index=True)```\n",
    "\n",
    "Example:"
   ]
  },
  {
   "cell_type": "code",
   "execution_count": 2,
   "metadata": {},
   "outputs": [
    {
     "name": "stdout",
     "output_type": "stream",
     "text": [
      "    name  birth_date height\n",
      "0   John  1999-09-09     63\n",
      "1  Julia  1984-11-12     71\n",
      "2   Jack  1973-03-12     69\n",
      "3   Jack  2001-12-23     73\n"
     ]
    }
   ],
   "source": [
    "data = data.append({'name': 'John', 'birth_date': '1999-09-09', 'height': 63}, ignore_index=True)\n",
    "data = data.append({'name': 'Julia', 'birth_date': '1984-11-12', 'height': 71}, ignore_index=True)\n",
    "data = data.append({'name': 'Jack', 'birth_date': '1973-03-12', 'height': 69}, ignore_index=True)\n",
    "data = data.append({'name': 'Jack', 'birth_date': '2001-12-23', 'height': 73}, ignore_index=True)\n",
    "print(data)"
   ]
  },
  {
   "cell_type": "markdown",
   "metadata": {},
   "source": [
    "---"
   ]
  },
  {
   "cell_type": "markdown",
   "metadata": {},
   "source": [
    "### To get unique values from a column in Pandas dataframe (`data`):\n",
    "\n",
    "```unique_values = data['column_name'].unique()```\n",
    "\n",
    "Example:"
   ]
  },
  {
   "cell_type": "code",
   "execution_count": 3,
   "metadata": {},
   "outputs": [
    {
     "name": "stdout",
     "output_type": "stream",
     "text": [
      "['John' 'Julia' 'Jack']\n"
     ]
    }
   ],
   "source": [
    "unique_names = data['name'].unique()\n",
    "print(unique_names)"
   ]
  },
  {
   "cell_type": "markdown",
   "metadata": {},
   "source": [
    "---"
   ]
  },
  {
   "cell_type": "markdown",
   "metadata": {},
   "source": [
    "### To sort a pandas dataframe (`data`) by a one or more columns:\n",
    "\n",
    "```sorted_data = data['column_name'].sort_values(by=['column_name_1', 'column_name_2'], ascending=False)```\n",
    "\n",
    "Example:"
   ]
  },
  {
   "cell_type": "code",
   "execution_count": 4,
   "metadata": {},
   "outputs": [
    {
     "name": "stdout",
     "output_type": "stream",
     "text": [
      "    name  birth_date height\n",
      "2   Jack  1973-03-12     69\n",
      "3   Jack  2001-12-23     73\n",
      "0   John  1999-09-09     63\n",
      "1  Julia  1984-11-12     71\n"
     ]
    }
   ],
   "source": [
    "sorted_data = data.sort_values(by=['name', 'height'], ascending=True)\n",
    "print(sorted_data)"
   ]
  },
  {
   "cell_type": "code",
   "execution_count": 5,
   "metadata": {},
   "outputs": [
    {
     "name": "stdout",
     "output_type": "stream",
     "text": [
      "    name  birth_date height\n",
      "1  Julia  1984-11-12     71\n",
      "0   John  1999-09-09     63\n",
      "3   Jack  2001-12-23     73\n",
      "2   Jack  1973-03-12     69\n"
     ]
    }
   ],
   "source": [
    "sorted_data = data.sort_values(by=['name', 'height'], ascending=False)\n",
    "print(sorted_data)"
   ]
  },
  {
   "cell_type": "markdown",
   "metadata": {},
   "source": [
    "---"
   ]
  },
  {
   "cell_type": "markdown",
   "metadata": {},
   "source": [
    "### To get the month from a date column in a pandas dataframe:\n",
    "\n",
    "```data['new_column_name'] = pandas.to_datetime(data['date_column_name']).dt.month```\n",
    "\n",
    "Example:"
   ]
  },
  {
   "cell_type": "code",
   "execution_count": 6,
   "metadata": {},
   "outputs": [
    {
     "name": "stdout",
     "output_type": "stream",
     "text": [
      "    name  birth_date height  birth_month\n",
      "0   John  1999-09-09     63            9\n",
      "1  Julia  1984-11-12     71           11\n",
      "2   Jack  1973-03-12     69            3\n",
      "3   Jack  2001-12-23     73           12\n"
     ]
    }
   ],
   "source": [
    "data['birth_month'] = pd.to_datetime(data['birth_date']).dt.month\n",
    "print(data)"
   ]
  },
  {
   "cell_type": "markdown",
   "metadata": {},
   "source": [
    "---"
   ]
  },
  {
   "cell_type": "markdown",
   "metadata": {},
   "source": [
    "### To round a floating point number (`num`) to `n` digits after the decimal point:\n",
    "\n",
    "```rounded_num = round(num, n)```\n",
    "\n",
    "Example:"
   ]
  },
  {
   "cell_type": "code",
   "execution_count": 7,
   "metadata": {},
   "outputs": [
    {
     "name": "stdout",
     "output_type": "stream",
     "text": [
      "23.45\n"
     ]
    }
   ],
   "source": [
    "rounded_num = round(23.45198, 2)\n",
    "print(rounded_num)"
   ]
  },
  {
   "cell_type": "markdown",
   "metadata": {},
   "source": [
    "---"
   ]
  },
  {
   "cell_type": "markdown",
   "metadata": {},
   "source": [
    "### To create lowercased string from the given string (`string`):\n",
    "\n",
    "```lowercased_name = string.lower()```\n",
    "\n",
    "Example:"
   ]
  },
  {
   "cell_type": "code",
   "execution_count": 8,
   "metadata": {},
   "outputs": [
    {
     "name": "stdout",
     "output_type": "stream",
     "text": [
      "python data analysis workshop\n"
     ]
    }
   ],
   "source": [
    "string = 'Python Data Analysis Workshop'\n",
    "lowercased_name = string.lower()\n",
    "print(lowercased_name)"
   ]
  },
  {
   "cell_type": "markdown",
   "metadata": {},
   "source": [
    "---"
   ]
  },
  {
   "cell_type": "markdown",
   "metadata": {},
   "source": [
    "### To create lowercased string from the given string (`string`):\n",
    "\n",
    "```lowercased_name = string.upper()```\n",
    "\n",
    "Example:"
   ]
  },
  {
   "cell_type": "code",
   "execution_count": 9,
   "metadata": {},
   "outputs": [
    {
     "name": "stdout",
     "output_type": "stream",
     "text": [
      "PYTHON DATA ANALYSIS WORKSHOP\n"
     ]
    }
   ],
   "source": [
    "string = 'Python Data Analysis Workshop'\n",
    "luppercased_name = string.upper()\n",
    "print(luppercased_name)"
   ]
  },
  {
   "cell_type": "code",
   "execution_count": null,
   "metadata": {},
   "outputs": [],
   "source": []
  }
 ],
 "metadata": {
  "kernelspec": {
   "display_name": "Python 3",
   "language": "python",
   "name": "python3"
  },
  "language_info": {
   "codemirror_mode": {
    "name": "ipython",
    "version": 3
   },
   "file_extension": ".py",
   "mimetype": "text/x-python",
   "name": "python",
   "nbconvert_exporter": "python",
   "pygments_lexer": "ipython3",
   "version": "3.7.3"
  }
 },
 "nbformat": 4,
 "nbformat_minor": 2
}
