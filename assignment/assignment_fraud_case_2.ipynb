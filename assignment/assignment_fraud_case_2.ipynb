{
 "cells": [
  {
   "cell_type": "markdown",
   "metadata": {},
   "source": [
    "### Fraud Case 2: Rounded Amount Invoices\n",
    "People who commit fraud often create invoices with rounded amounts, which are invoices without pennies. To explore the data set for any fraud of this nature, write a program that:\n",
    "- finds a list of unique claimants (`uploader` column)\n",
    "- loops through the list of unique claimants and for each claimant\n",
    "   * finds all the submitted claims\n",
    "   * finds the number of claims without pennies (`amount` column in the dataset)\n",
    "   * calculates the percentage of rounded-amount claims\n",
    "- ranks the claimants by those with a high percentage of rounded-amount claims"
   ]
  },
  {
   "cell_type": "code",
   "execution_count": null,
   "metadata": {},
   "outputs": [],
   "source": [
    "# importing data\n",
    "import pandas as pd\n",
    "data = pd.read_csv('assignment-data.csv')\n",
    "\n",
    "# importing validation and tweet function\n",
    "from ipynb.fs.full.utilities import tweet\n",
    "from ipynb.fs.full.utilities import validate"
   ]
  },
  {
   "cell_type": "code",
   "execution_count": null,
   "metadata": {},
   "outputs": [],
   "source": [
    "# find a list of unique claimants\n",
    "\n",
    "# loop through the list of unique claimants\n",
    "\n",
    "    # find all the claims submitted by the claimant\n",
    "    \n",
    "    # find the number of claims without pennies (amount column in the dataset),\n",
    "    \n",
    "    # calculate the percentage of rounded-amount claims\n",
    "\n",
    "# sort the claimants by those with a high percentage of rounded-amount claims"
   ]
  },
  {
   "cell_type": "code",
   "execution_count": null,
   "metadata": {},
   "outputs": [],
   "source": [
    "# validate\n",
    "fraudster_name = '?'\n",
    "validate('FraudCase2', fraudster_name)"
   ]
  },
  {
   "cell_type": "code",
   "execution_count": null,
   "metadata": {},
   "outputs": [],
   "source": [
    "# tweet\n",
    "text = 'Finished @lighthouse_labs second challenge! ' + fraudster_name + ' is the person we are looking for!'\n",
    "tweet(text)"
   ]
  }
 ],
 "metadata": {
  "kernelspec": {
   "display_name": "Python 3",
   "language": "python",
   "name": "python3"
  },
  "language_info": {
   "codemirror_mode": {
    "name": "ipython",
    "version": 3
   },
   "file_extension": ".py",
   "mimetype": "text/x-python",
   "name": "python",
   "nbconvert_exporter": "python",
   "pygments_lexer": "ipython3",
   "version": "3.7.3"
  }
 },
 "nbformat": 4,
 "nbformat_minor": 2
}
