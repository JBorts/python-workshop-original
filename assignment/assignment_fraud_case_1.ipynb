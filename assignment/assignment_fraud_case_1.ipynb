{
 "cells": [
  {
   "cell_type": "markdown",
   "metadata": {},
   "source": [
    "### Fraud Case 1: Claims just below an approval threshold\n",
    "Assuming that the signing limit of a company is \\\\$500. If someone was trying to defraud the company, they'd probably want to keep the payment amount below this threshold. To identify this type of fraud, write a program that:\n",
    "- finds a list of unique claimants (`uploader` column)\n",
    "- loops through the list of unique claimants and for each claimant\n",
    "   * finds all submitted claims\n",
    "   * finds the number of claims between \\\\$490 and \\\\$500 (sum of `amount` and `tax_amount`)\n",
    "   * calculates percentage of claims just below the threshold\n",
    "- ranks claimants by those with a high percentage of claims just below the approval threshold"
   ]
  },
  {
   "cell_type": "code",
   "execution_count": null,
   "metadata": {},
   "outputs": [],
   "source": [
    "# importing data\n",
    "import pandas as pd\n",
    "data = pd.read_csv('assignment-data.csv')\n",
    "\n",
    "# importing validation and tweet function\n",
    "from ipynb.fs.full.utilities import tweet\n",
    "from ipynb.fs.full.utilities import validate"
   ]
  },
  {
   "cell_type": "code",
   "execution_count": null,
   "metadata": {},
   "outputs": [],
   "source": [
    "# find a list of unique claimants\n",
    "\n",
    "# loop through the list of unique claimants\n",
    "\n",
    "    # find all the claims submitted by the claimant\n",
    "\n",
    "    # find the number of claims that the total amount (amount + tax_amount) is between $400 and $500\n",
    "    \n",
    "    # calculate the percentage claims just below the approval threshold\n",
    "\n",
    "# sort the claimants by those with a high percentage of claims just below the approval threshold"
   ]
  },
  {
   "cell_type": "code",
   "execution_count": null,
   "metadata": {},
   "outputs": [],
   "source": [
    "# validate\n",
    "fraudster_name = '?'\n",
    "validate('FraudCase1', fraudster_name)"
   ]
  },
  {
   "cell_type": "code",
   "execution_count": null,
   "metadata": {},
   "outputs": [],
   "source": [
    "# tweet\n",
    "text = 'Finished @lighthouse_labs first challenge! ' + fraudster_name + ' is the person we are looking for!'\n",
    "tweet(text)"
   ]
  }
 ],
 "metadata": {
  "kernelspec": {
   "display_name": "Python 3",
   "language": "python",
   "name": "python3"
  },
  "language_info": {
   "codemirror_mode": {
    "name": "ipython",
    "version": 3
   },
   "file_extension": ".py",
   "mimetype": "text/x-python",
   "name": "python",
   "nbconvert_exporter": "python",
   "pygments_lexer": "ipython3",
   "version": "3.7.3"
  }
 },
 "nbformat": 4,
 "nbformat_minor": 2
}
