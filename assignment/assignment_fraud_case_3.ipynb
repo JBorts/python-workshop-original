{
 "cells": [
  {
   "cell_type": "markdown",
   "metadata": {},
   "source": [
    "### Fraud Case 3: An increase in claim volume\n",
    "Rapid invoice volume increases may indicate that fraudster has become more confident in stealing money. One way to identify this type of fraud is to calculate the percentage of increase in claims compared to first month. For example, if a person submitted 5 claims in the first month and 25 in another, the percentage of increase compared to the first month is 400%. To explore the data set for any fraud of this nature, write a program that\n",
    "- finds a list of unique claimants (`uploader` column)\n",
    "- loops through the list of unique claimants and for each claimant\n",
    "   * finds all the submitted claims\n",
    "   * find all the months in which claimant made a claim\n",
    "   * loop through the months and count the number of claims per month\n",
    "   * calculate the percentage of increase compared to the first month\n",
    "   * checks if the percentage of increase in claim volume is larger than a threshold (let’s assume 500%) in any month\n",
    "   * prints a message for further investigation if the percentage of increase is above the threshold\n",
    "   * visualizes the percentage of increase by month for the suspicious claimants"
   ]
  },
  {
   "cell_type": "code",
   "execution_count": null,
   "metadata": {},
   "outputs": [],
   "source": [
    "# importing data\n",
    "import pandas as pd\n",
    "data = pd.read_csv('assignment-data.csv')\n",
    "\n",
    "# importing validation and tweet function\n",
    "from ipynb.fs.full.utilities import tweet\n",
    "from ipynb.fs.full.utilities import validate\n",
    "\n",
    "# importing and setting up visulatization packages\n",
    "import matplotlib.pyplot as plt\n",
    "plt.rcParams['figure.figsize']= 12,5\n",
    "plt.rcParams.update({'font.size': 16})"
   ]
  },
  {
   "cell_type": "code",
   "execution_count": null,
   "metadata": {},
   "outputs": [],
   "source": [
    "# find a list of unique claimants\n",
    "\n",
    "# loop through the list of unique claimants\n",
    "\n",
    "    # find all the claims submitted by the claimant\n",
    "\n",
    "    # find all the months in which claimant has a claim\n",
    "\n",
    "    # loop through the months and count the number of claims per month\n",
    "    \n",
    "    # calculate percentage of increase compared to the first month\n",
    "\n",
    "    # check if the percentage of increase in claim volume is larger than the threshold in any month\n"
   ]
  },
  {
   "cell_type": "code",
   "execution_count": null,
   "metadata": {},
   "outputs": [],
   "source": [
    "# validate\n",
    "fraudster_name = '?'\n",
    "validate('FraudCase3', fraudster_name)"
   ]
  },
  {
   "cell_type": "code",
   "execution_count": null,
   "metadata": {},
   "outputs": [],
   "source": [
    "# tweet\n",
    "text = 'Finished @lighthouse_labs third challenge! ' + fraudster_name + ' is the person we are looking for!'\n",
    "tweet(text)"
   ]
  }
 ],
 "metadata": {
  "kernelspec": {
   "display_name": "Python 3",
   "language": "python",
   "name": "python3"
  },
  "language_info": {
   "codemirror_mode": {
    "name": "ipython",
    "version": 3
   },
   "file_extension": ".py",
   "mimetype": "text/x-python",
   "name": "python",
   "nbconvert_exporter": "python",
   "pygments_lexer": "ipython3",
   "version": "3.7.3"
  }
 },
 "nbformat": 4,
 "nbformat_minor": 2
}
