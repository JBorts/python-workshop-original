{
 "cells": [
  {
   "cell_type": "markdown",
   "metadata": {},
   "source": [
    "### Fraud Case 3: An increase in claim volume\n",
    "Rapid invoice volume increases may indicate that fraudster has become more confident in stealing money. One way to identify this type of fraud is to calculate the percentage of increase in claims compared to first month. For example, if a person submitted 5 claims in the first month and 25 in another, the percentage of increase compared to the first month is 400%. To explore the data set for any fraud of this nature, write a program that\n",
    "- finds a list of unique claimants (`uploader` column)\n",
    "- loops through the list of unique claimants and for each claimant\n",
    "   * finds all the submitted claims\n",
    "   * find all the months in which claimant made a claim\n",
    "   * loop through the months and count the number of claims per month\n",
    "   * calculate the percentage of increase compared to the first month\n",
    "   * checks if the percentage of increase in claim volume is larger than a threshold (let’s assume 500%) in any month\n",
    "   * prints a message for further investigation if the percentage of increase is above the threshold\n",
    "   * visualizes the percentage of increase by month for the suspicious claimants"
   ]
  },
  {
   "cell_type": "code",
   "execution_count": 1,
   "metadata": {},
   "outputs": [],
   "source": [
    "# importing data\n",
    "import pandas as pd\n",
    "data = pd.read_csv('assignment-data.csv')\n",
    "\n",
    "# importing validation and tweet function\n",
    "from ipynb.fs.full.utilities import tweet\n",
    "from ipynb.fs.full.utilities import validate\n",
    "\n",
    "# importing and setting up visulatization packages\n",
    "import matplotlib.pyplot as plt\n",
    "plt.rcParams['figure.figsize']= 12,5\n",
    "plt.rcParams.update({'font.size': 16})"
   ]
  },
  {
   "cell_type": "code",
   "execution_count": 2,
   "metadata": {},
   "outputs": [
    {
     "name": "stdout",
     "output_type": "stream",
     "text": [
      "Possible fraud case! Inverstigate! Uploader:  Lex Luthor\n"
     ]
    }
   ],
   "source": [
    "# Create a new column called transaction_month and assign the month of transaction to each claim\n",
    "# HINT: Refer to item 5 in the cheat sheet\n",
    "data['transaction_month'] = pd.to_datetime(data['transaction_date']).dt.month\n",
    "\n",
    "# Find a list of unique claimants\n",
    "# HINT: Refer to item 3 in the cheat sheet\n",
    "uploaders = data[\"uploader\"].unique()\n",
    "\n",
    "# Loop through the list of unique claimants using a for loop\n",
    "# HINT: Refer to item 10 in the cheat sheet\n",
    "for uploader in uploaders:\n",
    "    \n",
    "    # Create a new dataframe with two colomns, month and count and call it uploader_data\n",
    "    # We will be storing the number of claims for each month in this dataframe\n",
    "    # HINT: Refer to item 1 in the cheat sheet\n",
    "    uploader_data = pd.DataFrame(columns = ['month', 'count'])\n",
    "    \n",
    "    # Find all the claims submitted by the claimant and store it in a new dataframe\n",
    "    # HINT: Refer to item 8 in the cheat sheet\n",
    "    filter = data.uploader == uploader\n",
    "    uploader_claims = data[filter]\n",
    "\n",
    "    # Find all the month in which claimant has a claim\n",
    "    # HINT: Refer to item 3 in the cheat sheet\n",
    "    uploader_months = uploader_claims['transaction_month'].unique()\n",
    "\n",
    "    # Loop through the list of month\n",
    "    # HINT: Refer to item 10 in the cheat sheet\n",
    "    for month in uploader_months:\n",
    "        \n",
    "        # Find all the uploader's claims in each month\n",
    "        # HINT: Refer to item 8 in the cheat sheet\n",
    "        filter = uploader_claims.transaction_month == month\n",
    "        claims_in_month = uploader_claims[filter]\n",
    "        \n",
    "        # Calculate the total number of uploader's claims in the month\n",
    "        # HINT: Refer to item 12 in the cheat sheet\n",
    "        count = len(claims_in_month)\n",
    "\n",
    "        # Add a new row to uploader_date dataframe with the uploader name and the total number of uploader claims in the month\n",
    "        # HINT: Refer to item 2 in the cheat sheet\n",
    "        uploader_data = uploader_data.append({'month': month, 'count': count}, ignore_index = True)\n",
    "    \n",
    "    # Add a new column to the uploader_data dataframe \n",
    "    # and store the percentage of the increase compared to the first month in this column\n",
    "    # HINT: Refer to item 7 in the cheat sheet\n",
    "    first_month_count = uploader_data['count'][0]\n",
    "    uploader_data[\"percentage\"] = (uploader_data['count'] - first_month_count) / first_month_count * 100\n",
    "\n",
    "    # Filter uploader_date and find the month in which the percentage of increase\n",
    "    # in claim volums is higher than 500% and store it in filtered_high_percentage\n",
    "    # HINT: Refer to item 8 in the cheat sheet\n",
    "    filter = uploader_data.percentage >= 500\n",
    "    filtered_high_percentage = uploader_data[filter]\n",
    "    \n",
    "    # If the length of filtered_high_percentage is larger than one, then\n",
    "    # HINT: Refer to item 13 in the cheat sheet\n",
    "    if len(filtered_high_percentage) > 0:\n",
    "        # 1) print a message with the name of the uploader\n",
    "        print('Possible fraud case! Inverstigate! Uploader: ', uploader)\n",
    "        # 2) create a visulization using the month and percentage columns in uploader_data\n",
    "        # HINT: Refer to item 17 in the cheat sheet\n",
    "        plt.xlabel('Month')\n",
    "        plt.ylabel('% increase')\n",
    "        # Note: to open the visualization in another window to save and share in social media add the following line right before your plot\n",
    "        %matplotlib qt\n",
    "        plt.plot(uploader_data['month'], uploader_data['percentage'])"
   ]
  },
  {
   "cell_type": "code",
   "execution_count": 3,
   "metadata": {},
   "outputs": [
    {
     "name": "stdout",
     "output_type": "stream",
     "text": [
      "Yay! You got it!\n"
     ]
    }
   ],
   "source": [
    "# Assign the name of the claimant with the a high increase in the claim volume to fraudster_name\n",
    "fraudster_name = 'Lex Luthor'\n",
    "validate('FraudCase3', fraudster_name)"
   ]
  }
 ],
 "metadata": {
  "kernelspec": {
   "display_name": "Python 3",
   "language": "python",
   "name": "python3"
  },
  "language_info": {
   "codemirror_mode": {
    "name": "ipython",
    "version": 3
   },
   "file_extension": ".py",
   "mimetype": "text/x-python",
   "name": "python",
   "nbconvert_exporter": "python",
   "pygments_lexer": "ipython3",
   "version": "3.7.3"
  }
 },
 "nbformat": 4,
 "nbformat_minor": 2
}
