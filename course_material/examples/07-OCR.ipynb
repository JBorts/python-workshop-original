{
 "cells": [
  {
   "cell_type": "code",
   "execution_count": null,
   "metadata": {},
   "outputs": [],
   "source": [
    "import PIL\n",
    "import pytesseract\n",
    "\n",
    "img = PIL.Image.open('reciept_001.png')\n",
    "text = pytesseract.image_to_string(img)"
   ]
  },
  {
   "cell_type": "code",
   "execution_count": null,
   "metadata": {},
   "outputs": [],
   "source": [
    "print(text)"
   ]
  },
  {
   "cell_type": "code",
   "execution_count": null,
   "metadata": {},
   "outputs": [],
   "source": [
    "lines = text.split('\\n');\n",
    "print(lines)"
   ]
  },
  {
   "cell_type": "code",
   "execution_count": null,
   "metadata": {},
   "outputs": [],
   "source": [
    "lines[0:6]"
   ]
  },
  {
   "cell_type": "code",
   "execution_count": null,
   "metadata": {},
   "outputs": [],
   "source": [
    "lines[-7:]"
   ]
  },
  {
   "cell_type": "code",
   "execution_count": null,
   "metadata": {},
   "outputs": [],
   "source": [
    "len(lines[6:-6])"
   ]
  },
  {
   "cell_type": "code",
   "execution_count": null,
   "metadata": {},
   "outputs": [],
   "source": [
    "items_count_line = lines[-3]"
   ]
  },
  {
   "cell_type": "code",
   "execution_count": null,
   "metadata": {},
   "outputs": [],
   "source": [
    "int(items_count_line[13:])"
   ]
  },
  {
   "cell_type": "code",
   "execution_count": null,
   "metadata": {},
   "outputs": [],
   "source": [
    "filename = \"reciept_002.png\" \n",
    "img = PIL.Image.open(filename)\n",
    "text = pytesseract.image_to_string(img)\n",
    "# print(text)\n",
    "lines = text.split('\\n');\n",
    "num_listed_item = len(lines[6:-6])\n",
    "items_count_line = lines[-3]\n",
    "num_sold_items = int(items_count_line[13:])\n",
    "if num_listed_item != num_sold_items:\n",
    "    print(\"Invalid receipt:\", filename, num_listed_item , \"is not equal to\", num_sold_items)\n",
    "else:\n",
    "    print(\"Valid receipt:\", filename, num_listed_item , \"is equal to\", num_sold_items)"
   ]
  },
  {
   "cell_type": "code",
   "execution_count": null,
   "metadata": {},
   "outputs": [],
   "source": [
    "filenames = [\"reciept_001.png\", \"reciept_002.png\", \"reciept_003.png\", \"reciept_004.png\", \"reciept_005.png\"]\n",
    "for filename in filenames:\n",
    "#     print(filename)\n",
    "    img = PIL.Image.open(filename)\n",
    "    text = pytesseract.image_to_string(img)\n",
    "    lines = text.split('\\n');\n",
    "    num_listed_item = len(lines[6:-6])\n",
    "#     print(num_listed_item)\n",
    "    items_count_line = lines[-3]\n",
    "#     print(items_count_line)\n",
    "    num_sold_items = int(items_count_line[13:])\n",
    "    if num_listed_item != num_sold_items:\n",
    "        print(\"Invalid receipt:\", filename, num_listed_item , \"is not equal to\", num_sold_items)\n",
    "    else:\n",
    "        print(\"Valid receipt:\", filename, num_listed_item , \"is equal to\", num_sold_items)"
   ]
  }
 ],
 "metadata": {
  "kernelspec": {
   "display_name": "Python 3",
   "language": "python",
   "name": "python3"
  },
  "language_info": {
   "codemirror_mode": {
    "name": "ipython",
    "version": 3
   },
   "file_extension": ".py",
   "mimetype": "text/x-python",
   "name": "python",
   "nbconvert_exporter": "python",
   "pygments_lexer": "ipython3",
   "version": "3.7.3"
  }
 },
 "nbformat": 4,
 "nbformat_minor": 2
}
