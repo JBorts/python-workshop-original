{
 "cells": [
  {
   "cell_type": "markdown",
   "metadata": {},
   "source": [
    "### Fraud Case 1: Claims just below an approval threshold\n",
    "Assuming that the signing limit of a company is \\\\$500. If someone was trying to defraud the company, they'd probably want to keep the payment amount below this threshold. To identify this type of fraud, write a program that:\n",
    "- finds a list of unique claimants (`uploader` column)\n",
    "- loops through the list of unique claimants and for each claimant\n",
    "   * finds all submitted claims\n",
    "   * finds the number of claims between \\\\$490 and \\\\$500 (sum of `amount` and `tax_amount`)\n",
    "   * calculates percentage of claims just below the threshold\n",
    "- ranks claimants by those with a high percentage of claims just below the approval threshold"
   ]
  },
  {
   "cell_type": "code",
   "execution_count": null,
   "metadata": {},
   "outputs": [],
   "source": [
    "# importing data\n",
    "import pandas as pd\n",
    "data = pd.read_csv('assignment-data.csv')\n",
    "\n",
    "# importing validation and tweet function\n",
    "from ipynb.fs.full.utilities import tweet\n",
    "from ipynb.fs.full.utilities import validate"
   ]
  },
  {
   "cell_type": "code",
   "execution_count": null,
   "metadata": {},
   "outputs": [],
   "source": [
    "# Add a new coloumn to data called total_amount and assign sum of amount and tax_amount colomn to it\n",
    "# HINT: Refer to item 7 in the cheat sheet\n",
    "\n",
    "\n",
    "# Find a list of unique claimants\n",
    "# HINT: Refer to item 3 in the cheat sheet\n",
    "\n",
    "\n",
    "# Create a new dataframe with two colomns, uploader and percentage and call it uploader_data\n",
    "# We will be storing the uploader name and percentage of claims just below the threshold in this data_frame\n",
    "# HINT: Refer to item 1 in the cheat sheet\n",
    "\n",
    "\n",
    "# Loop through the list of unique claimants using a for loop\n",
    "# HINT: Refer to item 10 in the cheat sheet\n",
    "\n",
    "\n",
    "    # Filter the data to find the claims submitted by the claimant\n",
    "    # HINT: Refer to item 8 in the cheat sheet\n",
    "\n",
    "    \n",
    "    # Find the claims where the total_amount is between $400 and $500\n",
    "    # HINT: Refer to item 8 in the cheat sheet\n",
    "    \n",
    "\n",
    "    # Calculate the percentage of claims just below the approval threshold \n",
    "    # HINT: Refer to item 12 in the cheat sheet\n",
    "    \n",
    "\n",
    "    # Add a new row to uploader_date dataframe with the uploader name and the percantage\n",
    "    # HINT: Refer to item 2 in the cheat sheet\n",
    "    \n",
    "    \n",
    "# Sort the uploader_date dataframe by the percentage\n",
    "# HINT: Refer to item 4 in the cheat sheet\n"
   ]
  },
  {
   "cell_type": "code",
   "execution_count": null,
   "metadata": {},
   "outputs": [],
   "source": [
    "# Assign the name of the claimant with the highest percentage of claims just below the threshold to fraudster_name\n",
    "fraudster_name = '?'\n",
    "team_name = '?' #Enter a creative team name so we can identify you for prizing\n",
    "validate('FraudCase1', fraudster_name, team_name)"
   ]
  },
  {
   "cell_type": "code",
   "execution_count": null,
   "metadata": {},
   "outputs": [],
   "source": [
    "# Tweet\n",
    "text = 'Finished @lighthouse_labs first challenge! ' + fraudster_name + ' is the person we are looking for!'\n",
    "tweet(text)"
   ]
  }
 ],
 "metadata": {
  "kernelspec": {
   "display_name": "Python 3",
   "language": "python",
   "name": "python3"
  },
  "language_info": {
   "codemirror_mode": {
    "name": "ipython",
    "version": 3
   },
   "file_extension": ".py",
   "mimetype": "text/x-python",
   "name": "python",
   "nbconvert_exporter": "python",
   "pygments_lexer": "ipython3",
   "version": "3.7.3"
  }
 },
 "nbformat": 4,
 "nbformat_minor": 2
}
