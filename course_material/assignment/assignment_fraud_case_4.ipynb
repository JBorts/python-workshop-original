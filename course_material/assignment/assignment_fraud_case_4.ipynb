{
 "cells": [
  {
   "cell_type": "markdown",
   "metadata": {},
   "source": [
    "### Fraud Case 4: Discrepancy between the submitted data and the receipt\n",
    "OCR can be used to identify any discrepancy between the data that is submitted and the receipt. To explore the data set for fraud of this nature, write a program that:\n",
    "- loops through the first 10 claims in the data set and for each claim data\n",
    "   * opens the receipt_image for each claim\n",
    "   * run the receipt images through OCR\n",
    "   * compares the information on the receipt with those in the data set (limit this comparison to `amount` and `tax_amount` columns)\n",
    "   * print a message whenever a discrepancy is found"
   ]
  },
  {
   "cell_type": "code",
   "execution_count": null,
   "metadata": {},
   "outputs": [],
   "source": [
    "# importing data\n",
    "import pandas as pd\n",
    "data = pd.read_csv('assignment-data.csv')\n",
    "\n",
    "# importing validation and tweet function\n",
    "from ipynb.fs.full.utilities import tweet\n",
    "from ipynb.fs.full.utilities import validate\n",
    "\n",
    "# importing OCR libraries\n",
    "import PIL\n",
    "import pytesseract"
   ]
  },
  {
   "cell_type": "code",
   "execution_count": null,
   "metadata": {},
   "outputs": [],
   "source": [
    "# loop through the first 10 claims in the data set\n",
    "\n",
    "    # open the receipt_image for each claim\n",
    "    \n",
    "    # run the receipt images through OCR\n",
    "    \n",
    "    # compare amount in the data set with subtotal on the receipt and print a message if they don't match\n",
    "    \n",
    "    # compare tax_amount in the data set with tax on the receipt and print a message if they don't match\n"
   ]
  },
  {
   "cell_type": "code",
   "execution_count": null,
   "metadata": {},
   "outputs": [],
   "source": [
    "# validate\n",
    "fraudster_name = '?'\n",
    "validate('FraudCase4', fraudster_name)"
   ]
  },
  {
   "cell_type": "code",
   "execution_count": null,
   "metadata": {},
   "outputs": [],
   "source": [
    "# tweet\n",
    "text = 'Finished @lighthouse_labs forth challenge! ' + fraudster_name + ' is the person we are looking for!'\n",
    "tweet(text)"
   ]
  }
 ],
 "metadata": {
  "kernelspec": {
   "display_name": "Python 3",
   "language": "python",
   "name": "python3"
  },
  "language_info": {
   "codemirror_mode": {
    "name": "ipython",
    "version": 3
   },
   "file_extension": ".py",
   "mimetype": "text/x-python",
   "name": "python",
   "nbconvert_exporter": "python",
   "pygments_lexer": "ipython3",
   "version": "3.7.3"
  }
 },
 "nbformat": 4,
 "nbformat_minor": 2
}
