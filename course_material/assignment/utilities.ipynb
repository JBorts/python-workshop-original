{
 "cells": [
  {
   "cell_type": "code",
   "execution_count": 1,
   "metadata": {},
   "outputs": [],
   "source": [
    "import webbrowser\n",
    "import json\n",
    "from urllib import request\n",
    " \n",
    "def tweet(url):\n",
    "    text = \"\"\n",
    "    tweet_url = \"https://twitter.com/intent/tweet?text=\" + text + url\n",
    "    webbrowser.open_new_tab(tweet_url)\n",
    "    \n",
    "def validate(case, villainName, teamName):\n",
    "    try:\n",
    "        case_num = int(case[9]) - 1\n",
    "        assert case_num in range(0, 4)\n",
    "    except:\n",
    "        print(\"Invalid fraud case!\")\n",
    "        return\n",
    "    \n",
    "    villains = [\"norman osborn\", \"mojo jojo\", \"lex luthor\", \"kid marvelman\"]\n",
    "    sucess_message = \"Yay! You got it!\"\n",
    "    retry_message = \" is not the answer we are looking for! Give it another try!\"\n",
    "    if villainName.lower().strip() == villains[case_num]:\n",
    "        print(sucess_message)\n",
    "        req = request.Request('https://script.google.com/macros/s/AKfycbzjLTieMt69jC0USEtteBHPz1tqlyvUFgIVozpI4o5PaAFsT8E/exec')\n",
    "        req.add_header('Content-Type', 'application/json')\n",
    "        request.urlopen(req, json.dumps({'case': case, 'team': teamName}).encode('utf-8'))\n",
    "    else:\n",
    "        print(villainName + retry_message)"
   ]
  },
  {
   "cell_type": "code",
   "execution_count": null,
   "metadata": {},
   "outputs": [],
   "source": []
  }
 ],
 "metadata": {
  "kernelspec": {
   "display_name": "Python 3",
   "language": "python",
   "name": "python3"
  },
  "language_info": {
   "codemirror_mode": {
    "name": "ipython",
    "version": 3
   },
   "file_extension": ".py",
   "mimetype": "text/x-python",
   "name": "python",
   "nbconvert_exporter": "python",
   "pygments_lexer": "ipython3",
   "version": "3.7.3"
  }
 },
 "nbformat": 4,
 "nbformat_minor": 2
}
